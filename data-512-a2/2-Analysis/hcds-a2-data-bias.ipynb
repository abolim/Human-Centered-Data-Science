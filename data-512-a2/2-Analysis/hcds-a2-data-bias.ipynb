{
 "cells": [
  {
   "cell_type": "markdown",
   "metadata": {},
   "source": [
    "### DATA 512: Human Centered Data Science\n",
    "#### A2: Bias in Data | Author: Aboli Moroney | 15-Oct-2020\n",
    "\n",
    "#### Motivation: The goal of this notebook is to identify potential sources of bias in a corpus of human-annotated data, and describe some implications of those biases.  "
   ]
  },
  {
   "cell_type": "markdown",
   "metadata": {},
   "source": [
    "This notebook performs an exploratory analysis to uncover the biases in the Aggression and Toxicity data sets in Wikipedia Talk project on Figshare. The source data includes:\n",
    "\n",
    "- **Aggression**: 100k labeled comments from English Wikipedia by approximately 10 annotators via Crowdflower on how aggressive the comment was perceived to be along with some demographic data for each crowd-worker.\n",
    "\n",
    "- **Toxicity**: 160k labeled comments from English Wikipedia by approximately 10 annotators via Crowdflower on a spectrum of how toxic the comment is (perceived as likely to make people want to leave the discussion) to how healthy to conversation the contribution is.\n",
    "\n",
    "\n",
    "Source data for the analysis can be found [on Figshare](https://figshare.com/projects/Wikipedia_Talk/16731) and the schema and descriptions can be found [here](https://meta.wikimedia.org/wiki/Research:Detox/Data_Release)."
   ]
  },
  {
   "cell_type": "markdown",
   "metadata": {},
   "source": [
    "This block of code is used to import the different Python libraries that we will use throughout our analysis."
   ]
  },
  {
   "cell_type": "code",
   "execution_count": 1,
   "metadata": {},
   "outputs": [],
   "source": [
    "# Import Libraries\n",
    "\n",
    "import pandas as pd\n",
    "import numpy as np\n",
    "import seaborn as sns\n",
    "import matplotlib.pyplot as plt\n",
    "from matplotlib.ticker import StrMethodFormatter\n",
    "from  matplotlib.ticker import PercentFormatter\n"
   ]
  },
  {
   "cell_type": "markdown",
   "metadata": {},
   "source": [
    "Next, we will read the raw data files for both aggression and toxicity. Each contains 3 types of files:\n",
    "\n",
    "1. Comments - contains the comments in the wikipedia pages and the revisions\n",
    "2. Annotations - contains annotations labeled by several crowdworkers for each comment in the above file\n",
    "3. Worker Demographics - contains demographic information of the annotators like their age group, gender, education and fluency in english language\n",
    "\n",
    "We will do some preliminary data cleaning such as removal of the newline and tab tokens from comments."
   ]
  },
  {
   "cell_type": "code",
   "execution_count": 2,
   "metadata": {},
   "outputs": [],
   "source": [
    "# Read the source data for Aggression and Toxicity (comments, annotated comments and worker demographics)\n",
    "\n",
    "agg_comments = pd.read_csv('../1-Data/data_aggression_annotated_comments.tsv', sep = '\\t')\n",
    "agg_annotations = pd.read_csv('../1-Data/data_aggression_annotations.tsv',  sep = '\\t')\n",
    "agg_demographics = pd.read_csv('../1-Data/data_aggression_worker_demographics.tsv',  sep = '\\t')\n",
    "\n",
    "tox_comments = pd.read_csv('../1-Data/data_toxicity_annotated_comments.tsv', sep = '\\t')\n",
    "tox_annotations = pd.read_csv('../1-Data/data_toxicity_annotations.tsv',  sep = '\\t')\n",
    "tox_demographics = pd.read_csv('../1-Data/data_toxicity_worker_demographics.tsv',  sep = '\\t')\n",
    "\n",
    "# Remove newline and tab tokens from comments\n",
    "\n",
    "agg_comments['comment'] = agg_comments['comment'].apply(lambda x: x.replace(\"NEWLINE_TOKEN\", \" \"))\n",
    "agg_comments['comment'] = agg_comments['comment'].apply(lambda x: x.replace(\"TAB_TOKEN\", \" \"))\n",
    "tox_comments['comment'] = tox_comments['comment'].apply(lambda x: x.replace(\"NEWLINE_TOKEN\", \" \"))\n",
    "tox_comments['comment'] = tox_comments['comment'].apply(lambda x: x.replace(\"TAB_TOKEN\", \" \"))\n"
   ]
  },
  {
   "cell_type": "markdown",
   "metadata": {},
   "source": [
    "Now we will perform some quick quality checks to see the number of unique comments in the aggression and toxicity raw data files. We should expect approximately 100k comments in the aggression files and 160k comments in the toxicity files based on the file description in [wikimedia](https://meta.wikimedia.org/wiki/Research:Detox/Data_Release)"
   ]
  },
  {
   "cell_type": "code",
   "execution_count": 3,
   "metadata": {},
   "outputs": [
    {
     "name": "stdout",
     "output_type": "stream",
     "text": [
      "115864 115864\n",
      "159686 159686\n"
     ]
    }
   ],
   "source": [
    "# Quality checks\n",
    "\n",
    "print(len(agg_annotations['rev_id'].unique()), len(agg_comments['rev_id'].unique())) \n",
    "print(len(tox_comments['rev_id'].unique()), len(tox_annotations['rev_id'].unique())) \n"
   ]
  },
  {
   "cell_type": "markdown",
   "metadata": {},
   "source": [
    "Now we will merge the comments, annotations and worker demographics to create a single master data set for analysis."
   ]
  },
  {
   "cell_type": "code",
   "execution_count": 4,
   "metadata": {},
   "outputs": [
    {
     "data": {
      "text/html": [
       "<div>\n",
       "<style scoped>\n",
       "    .dataframe tbody tr th:only-of-type {\n",
       "        vertical-align: middle;\n",
       "    }\n",
       "\n",
       "    .dataframe tbody tr th {\n",
       "        vertical-align: top;\n",
       "    }\n",
       "\n",
       "    .dataframe thead th {\n",
       "        text-align: right;\n",
       "    }\n",
       "</style>\n",
       "<table border=\"1\" class=\"dataframe\">\n",
       "  <thead>\n",
       "    <tr style=\"text-align: right;\">\n",
       "      <th></th>\n",
       "      <th>rev_id</th>\n",
       "      <th>worker_id</th>\n",
       "      <th>aggression</th>\n",
       "      <th>aggression_score</th>\n",
       "      <th>comment</th>\n",
       "      <th>year</th>\n",
       "      <th>logged_in</th>\n",
       "      <th>ns</th>\n",
       "      <th>sample</th>\n",
       "      <th>split</th>\n",
       "      <th>gender</th>\n",
       "      <th>english_first_language</th>\n",
       "      <th>age_group</th>\n",
       "      <th>education</th>\n",
       "    </tr>\n",
       "  </thead>\n",
       "  <tbody>\n",
       "    <tr>\n",
       "      <th>0</th>\n",
       "      <td>37675</td>\n",
       "      <td>1362</td>\n",
       "      <td>1.0</td>\n",
       "      <td>-1.0</td>\n",
       "      <td>`- This is not ``creative``.  Those are the di...</td>\n",
       "      <td>2002</td>\n",
       "      <td>True</td>\n",
       "      <td>article</td>\n",
       "      <td>random</td>\n",
       "      <td>train</td>\n",
       "      <td>male</td>\n",
       "      <td>0.0</td>\n",
       "      <td>18-30</td>\n",
       "      <td>masters</td>\n",
       "    </tr>\n",
       "    <tr>\n",
       "      <th>1</th>\n",
       "      <td>37675</td>\n",
       "      <td>2408</td>\n",
       "      <td>0.0</td>\n",
       "      <td>1.0</td>\n",
       "      <td>`- This is not ``creative``.  Those are the di...</td>\n",
       "      <td>2002</td>\n",
       "      <td>True</td>\n",
       "      <td>article</td>\n",
       "      <td>random</td>\n",
       "      <td>train</td>\n",
       "      <td>male</td>\n",
       "      <td>1.0</td>\n",
       "      <td>30-45</td>\n",
       "      <td>hs</td>\n",
       "    </tr>\n",
       "    <tr>\n",
       "      <th>2</th>\n",
       "      <td>37675</td>\n",
       "      <td>1493</td>\n",
       "      <td>0.0</td>\n",
       "      <td>0.0</td>\n",
       "      <td>`- This is not ``creative``.  Those are the di...</td>\n",
       "      <td>2002</td>\n",
       "      <td>True</td>\n",
       "      <td>article</td>\n",
       "      <td>random</td>\n",
       "      <td>train</td>\n",
       "      <td>female</td>\n",
       "      <td>0.0</td>\n",
       "      <td>30-45</td>\n",
       "      <td>bachelors</td>\n",
       "    </tr>\n",
       "  </tbody>\n",
       "</table>\n",
       "</div>"
      ],
      "text/plain": [
       "   rev_id  worker_id  aggression  aggression_score  \\\n",
       "0   37675       1362         1.0              -1.0   \n",
       "1   37675       2408         0.0               1.0   \n",
       "2   37675       1493         0.0               0.0   \n",
       "\n",
       "                                             comment  year  logged_in  \\\n",
       "0  `- This is not ``creative``.  Those are the di...  2002       True   \n",
       "1  `- This is not ``creative``.  Those are the di...  2002       True   \n",
       "2  `- This is not ``creative``.  Those are the di...  2002       True   \n",
       "\n",
       "        ns  sample  split  gender  english_first_language age_group  education  \n",
       "0  article  random  train    male                     0.0     18-30    masters  \n",
       "1  article  random  train    male                     1.0     30-45         hs  \n",
       "2  article  random  train  female                     0.0     30-45  bachelors  "
      ]
     },
     "execution_count": 4,
     "metadata": {},
     "output_type": "execute_result"
    }
   ],
   "source": [
    "# Join the 3 datasets to create a master dataset for analysis for both Aggression and Toxicity\n",
    "\n",
    "agg_df = pd.merge(agg_annotations, agg_comments, how='left', on=['rev_id']) #get comment details\n",
    "agg_df = pd.merge(agg_df, agg_demographics, how='left', on=['worker_id']) #get worker details\n",
    "\n",
    "tox_df = pd.merge(tox_annotations, tox_comments, how='left', on=['rev_id']) #get comment details\n",
    "tox_df = pd.merge(tox_df, tox_demographics, how='left', on=['worker_id']) #get worker details\n",
    "\n",
    "agg_df.head(3) #view the master file to understand the structure"
   ]
  },
  {
   "cell_type": "markdown",
   "metadata": {},
   "source": [
    "### Analysis 1: Analyze the demographic information about the Crowdflower workers that is available in the dataset\n",
    "\n",
    "#### Research Questions\n",
    "1. Is there fair representation of the different genders (male, female, other) in demographic profile of the crowdworkers who are labelling the comments as aggressive or toxic? Do they fairly to represent the the general population? \n",
    "2. Are the comments are being distributed evenly across different genders (male, female and other) for a fair labelling exercise?\n",
    "\n",
    "#### Exploratory Analysis\n",
    "\n",
    "1. The distribution of workers by gender who are labelling the comments datasets \n",
    "2. The distribution of comments annotated by gender of the annotators \n",
    "\n",
    "The code chunk below compares the number of workers across different genders for both Toxicity and Aggression data sets.\n",
    "It also compare the number of comments reviews by workers of different genders.The outputs are displayed in a table as well as  bar graphs for easy comparison. The bar graphs are saved as .png files in the Outputs directory for future reference."
   ]
  },
  {
   "cell_type": "code",
   "execution_count": 5,
   "metadata": {},
   "outputs": [
    {
     "data": {
      "text/html": [
       "<div>\n",
       "<style scoped>\n",
       "    .dataframe tbody tr th:only-of-type {\n",
       "        vertical-align: middle;\n",
       "    }\n",
       "\n",
       "    .dataframe tbody tr th {\n",
       "        vertical-align: top;\n",
       "    }\n",
       "\n",
       "    .dataframe thead th {\n",
       "        text-align: right;\n",
       "    }\n",
       "</style>\n",
       "<table border=\"1\" class=\"dataframe\">\n",
       "  <thead>\n",
       "    <tr style=\"text-align: right;\">\n",
       "      <th></th>\n",
       "      <th>Type</th>\n",
       "      <th>gender</th>\n",
       "      <th>workers_count</th>\n",
       "      <th>comments_reviewed</th>\n",
       "    </tr>\n",
       "  </thead>\n",
       "  <tbody>\n",
       "    <tr>\n",
       "      <th>0</th>\n",
       "      <td>Aggression</td>\n",
       "      <td>female</td>\n",
       "      <td>840</td>\n",
       "      <td>308103</td>\n",
       "    </tr>\n",
       "    <tr>\n",
       "      <th>1</th>\n",
       "      <td>Aggression</td>\n",
       "      <td>male</td>\n",
       "      <td>1349</td>\n",
       "      <td>547328</td>\n",
       "    </tr>\n",
       "    <tr>\n",
       "      <th>2</th>\n",
       "      <td>Aggression</td>\n",
       "      <td>other</td>\n",
       "      <td>1</td>\n",
       "      <td>83</td>\n",
       "    </tr>\n",
       "    <tr>\n",
       "      <th>3</th>\n",
       "      <td>Toxicity</td>\n",
       "      <td>female</td>\n",
       "      <td>1263</td>\n",
       "      <td>457346</td>\n",
       "    </tr>\n",
       "    <tr>\n",
       "      <th>4</th>\n",
       "      <td>Toxicity</td>\n",
       "      <td>male</td>\n",
       "      <td>2327</td>\n",
       "      <td>889251</td>\n",
       "    </tr>\n",
       "    <tr>\n",
       "      <th>5</th>\n",
       "      <td>Toxicity</td>\n",
       "      <td>other</td>\n",
       "      <td>1</td>\n",
       "      <td>358</td>\n",
       "    </tr>\n",
       "  </tbody>\n",
       "</table>\n",
       "</div>"
      ],
      "text/plain": [
       "         Type  gender  workers_count  comments_reviewed\n",
       "0  Aggression  female            840             308103\n",
       "1  Aggression    male           1349             547328\n",
       "2  Aggression   other              1                 83\n",
       "3    Toxicity  female           1263             457346\n",
       "4    Toxicity    male           2327             889251\n",
       "5    Toxicity   other              1                358"
      ]
     },
     "metadata": {},
     "output_type": "display_data"
    },
    {
     "data": {
      "image/png": "[encoded data removed]",
      "text/plain": [
       "<Figure size 574.15x432 with 1 Axes>"
      ]
     },
     "metadata": {},
     "output_type": "display_data"
    },
    {
     "data": {
      "image/png": "[encoded data removed]",
      "text/plain": [
       "<Figure size 574.15x432 with 1 Axes>"
      ]
     },
     "metadata": {},
     "output_type": "display_data"
    }
   ],
   "source": [
    "# Calculate number of workers by gender \n",
    "\n",
    "agg_gender_workers = agg_demographics.groupby(['gender']).worker_id.agg('count').to_frame('workers_count').reset_index()\n",
    "agg_gender_workers['Type'] = \"Aggression\"\n",
    "tox_gender_workers = tox_demographics.groupby(['gender']).worker_id.agg('count').to_frame('workers_count').reset_index()\n",
    "tox_gender_workers['Type'] = \"Toxicity\"\n",
    "gender_workers = agg_gender_workers.append(tox_gender_workers)\n",
    "\n",
    "# Calculate number of comments reviewed by gender\n",
    "\n",
    "agg_gender_comments = agg_df.groupby(['gender']).rev_id.agg('count').to_frame('comments_reviewed').reset_index()\n",
    "agg_gender_comments['Type'] = \"Aggression\"\n",
    "tox_gender_comments = tox_df.groupby(['gender']).rev_id.agg('count').to_frame('comments_reviewed').reset_index()\n",
    "tox_gender_comments['Type'] = \"Toxicity\"\n",
    "gender_comments = agg_gender_comments.append(tox_gender_comments)\n",
    "\n",
    "# Merge the comments and no of workers counts\n",
    "\n",
    "distribution_gender = pd.merge(gender_workers, gender_comments, how='outer', on=['gender', 'Type']) \n",
    "\n",
    "# Tablular Output\n",
    "\n",
    "distribution_gender = distribution_gender[['Type', 'gender', 'workers_count', 'comments_reviewed']]\n",
    "display(distribution_gender) #view the output\n",
    "\n",
    "# Bar Chart Outputs\n",
    "\n",
    "sns.set_style('ticks')\n",
    "sns.set_style(\"whitegrid\") #gridlines\n",
    "sns.set(font_scale=1.5)  \n",
    "\n",
    "g = sns.catplot(\n",
    "    data=distribution_gender, kind=\"bar\",\n",
    "    x=\"gender\", y=\"workers_count\", hue=\"Type\",\n",
    "    ci=\"sd\", palette=\"tab10\", alpha=.8, height=6\n",
    ")\n",
    "g.despine(left=True)\n",
    "g.set_axis_labels(\"Gender\", \"Number of Workers\")\n",
    "\n",
    "g2 = sns.catplot(\n",
    "    data=distribution_gender, kind=\"bar\",\n",
    "    x=\"gender\", y=\"comments_reviewed\", hue=\"Type\",\n",
    "    ci=\"sd\", palette=\"tab10\", alpha=.8, height=6\n",
    ")\n",
    "g2.despine(left=True)\n",
    "g2.set_axis_labels(\"Gender\", \"Number of Comments Reviewed\")\n",
    "\n",
    "# Save Outputs\n",
    "\n",
    "g.savefig(\"../3-Outputs/Analysis1_WorkersbyGender.png\")\n",
    "g2.savefig(\"../3-Outputs/Analysis1_CommentsReviewedbyGender.png\")\n"
   ]
  },
  {
   "cell_type": "markdown",
   "metadata": {},
   "source": [
    "#### Observations and Potential Implications:\n",
    "\n",
    "1. The distribution of workers by gender is not does not represent the general population fairly. The number of male annotators is much higher than female annotators in both aggression and toxicity worker demographic datasets. Further, there is only 1 annotator in who is of the gender 'other' (neither male nor female). This unequal distribution of workers is likely to introduce a gender bias in the labelling process. The way men, women and transgender (other) percieve comments can be different and thus there should be equal or proportionate representation of all 3 in the workers datasets.\n",
    "<br><br>\n",
    "2. We further see that the number of comments reviewed by male, female and other gender annotators is also disproportionate. Males reviewed the highest number of comments followed by females. The comments reviewed by 'other' gender workers are negligible compared to males and females. This is further evidence that there could be gender bias in the labelling process as it is not evenly distributed.\n",
    "\n"
   ]
  },
  {
   "cell_type": "markdown",
   "metadata": {},
   "source": [
    "### Analysis 2: Explore relationships between worker age groups and labeling behavior\n",
    "\n",
    "#### Research Questions\n",
    "1. Is there fair representation of the annotators across all age groups? \n",
    "2. Are younger labelers more or less likely to label comments as aggressive or toxic than older labelers?\n",
    "\n",
    "\n",
    "#### Exploratory Analysis\n",
    "To answer the above questions, we will analyze the following\n",
    "\n",
    "1. The distribution of workers by age groups who are labelling the comments datasets \n",
    "2. The percentage of comments by workers across different age groups that have been labelled as aggressive/toxic"
   ]
  },
  {
   "cell_type": "markdown",
   "metadata": {},
   "source": [
    "The code chunk below calculates the number of workers across different age groups for both Toxicity and Aggression data sets.\n",
    "The outputs are displayed in a table as well as a bar graph for comparison. The bar graph is saved as a .png file in the Outputs directory for future reference."
   ]
  },
  {
   "cell_type": "code",
   "execution_count": 6,
   "metadata": {},
   "outputs": [
    {
     "data": {
      "text/html": [
       "<div>\n",
       "<style scoped>\n",
       "    .dataframe tbody tr th:only-of-type {\n",
       "        vertical-align: middle;\n",
       "    }\n",
       "\n",
       "    .dataframe tbody tr th {\n",
       "        vertical-align: top;\n",
       "    }\n",
       "\n",
       "    .dataframe thead th {\n",
       "        text-align: right;\n",
       "    }\n",
       "</style>\n",
       "<table border=\"1\" class=\"dataframe\">\n",
       "  <thead>\n",
       "    <tr style=\"text-align: right;\">\n",
       "      <th>Type</th>\n",
       "      <th>Aggression Data Annotators</th>\n",
       "      <th>Toxicity Data Annotators</th>\n",
       "    </tr>\n",
       "    <tr>\n",
       "      <th>age_group</th>\n",
       "      <th></th>\n",
       "      <th></th>\n",
       "    </tr>\n",
       "  </thead>\n",
       "  <tbody>\n",
       "    <tr>\n",
       "      <th>0-18</th>\n",
       "      <td>37</td>\n",
       "      <td>79</td>\n",
       "    </tr>\n",
       "    <tr>\n",
       "      <th>18-30</th>\n",
       "      <td>1049</td>\n",
       "      <td>1862</td>\n",
       "    </tr>\n",
       "    <tr>\n",
       "      <th>30-45</th>\n",
       "      <td>831</td>\n",
       "      <td>1247</td>\n",
       "    </tr>\n",
       "    <tr>\n",
       "      <th>45-60</th>\n",
       "      <td>218</td>\n",
       "      <td>296</td>\n",
       "    </tr>\n",
       "    <tr>\n",
       "      <th>Over 60</th>\n",
       "      <td>20</td>\n",
       "      <td>30</td>\n",
       "    </tr>\n",
       "  </tbody>\n",
       "</table>\n",
       "</div>"
      ],
      "text/plain": [
       "Type       Aggression Data Annotators  Toxicity Data Annotators\n",
       "age_group                                                      \n",
       "0-18                               37                        79\n",
       "18-30                            1049                      1862\n",
       "30-45                             831                      1247\n",
       "45-60                             218                       296\n",
       "Over 60                            20                        30"
      ]
     },
     "metadata": {},
     "output_type": "display_data"
    },
    {
     "data": {
      "image/png": "[encoded data removed]",
      "text/plain": [
       "<Figure size 574.15x432 with 1 Axes>"
      ]
     },
     "metadata": {},
     "output_type": "display_data"
    }
   ],
   "source": [
    "# Calculate number of workers by age group\n",
    "\n",
    "agg_age_workers = agg_demographics.groupby(['age_group']).worker_id.agg('count').to_frame('workers_count').reset_index()\n",
    "agg_age_workers['Type'] = \"Aggression\"\n",
    "\n",
    "tox_age_workers = tox_demographics.groupby(['age_group']).worker_id.agg('count').to_frame('workers_count').reset_index()\n",
    "tox_age_workers['Type'] = \"Toxicity\"\n",
    "\n",
    "age_workers = agg_age_workers.append(tox_age_workers)\n",
    "age_workers = age_workers.replace(['Under 18'], '0-18')\n",
    "age_workers = age_workers.sort_values(['age_group'])\n",
    "\n",
    "# Tabular Output\n",
    "\n",
    "age_workers_table = pd.pivot_table(age_workers, values='workers_count', index=['age_group'],\n",
    "                    columns=['Type'], aggfunc=np.sum)\n",
    "age_workers_table = age_workers_table.rename(columns={ \"Aggression\": \"Aggression Data Annotators\", \n",
    "                                                        \"Toxicity\" : \"Toxicity Data Annotators\" })\n",
    "display(age_workers_table)\n",
    "\n",
    "# Bar Chart Output\n",
    "\n",
    "sns.set_style('ticks')\n",
    "sns.set_style(\"whitegrid\") #gridlines\n",
    "sns.set(font_scale=1.5)  \n",
    "\n",
    "g = sns.catplot(\n",
    "    data=age_workers, kind=\"bar\",\n",
    "    x=\"age_group\", y=\"workers_count\", hue=\"Type\",\n",
    "    ci=\"sd\", palette=\"tab10\", alpha=.8, height=6\n",
    ")\n",
    "g.despine(left=True)\n",
    "g.set_axis_labels(\"Age Group\", \"Number of Workers\")\n",
    "\n",
    "# Save Output\n",
    "\n",
    "g.savefig(\"../3-Outputs/Analysis2_WorkersbyAge.png\") \n"
   ]
  },
  {
   "cell_type": "markdown",
   "metadata": {},
   "source": [
    "#### Observations and Potential Implications:\n",
    "\n",
    "- The distribution of workers by age groups is not does not represent the general population fairly. \n",
    "- The number of annotators between ages 18 to 30 is the highest, followed by ages 30 to 45, and 45 to 60. \n",
    "- The number of non-adult annotators (below 18) and senior annotators (above 60) are much lower to the mid age group annotators.\n",
    "- The unequal distribution of workers is likely to introduce an age bias in the labelling process and bias the training for machine learning models as well to be skewed towards the age groups 18 to 45. \n",
    "- The comments that the youth may find aggressive/toxic may be percieved differently by older readers and even children. \n",
    "- Hence, there should be a fair distribution of annotators across all age groups to represent the general population."
   ]
  },
  {
   "cell_type": "markdown",
   "metadata": {},
   "source": [
    "Now let us look at the percentage of comments that annotators across different age groups labelled as aggressive or toxic.\n",
    "\n",
    "The code chunk below calculates the % comments labelled as aggressive or toxic by workers across different age groups. The outputs are displayed in a table as well as a bar graph for comparison. The bar graph is saved as a .png file in the Outputs directory for future reference. "
   ]
  },
  {
   "cell_type": "code",
   "execution_count": 7,
   "metadata": {},
   "outputs": [
    {
     "data": {
      "text/html": [
       "<div>\n",
       "<style scoped>\n",
       "    .dataframe tbody tr th:only-of-type {\n",
       "        vertical-align: middle;\n",
       "    }\n",
       "\n",
       "    .dataframe tbody tr th {\n",
       "        vertical-align: top;\n",
       "    }\n",
       "\n",
       "    .dataframe thead th {\n",
       "        text-align: right;\n",
       "    }\n",
       "</style>\n",
       "<table border=\"1\" class=\"dataframe\">\n",
       "  <thead>\n",
       "    <tr style=\"text-align: right;\">\n",
       "      <th>Type</th>\n",
       "      <th>% Aggressive Comments</th>\n",
       "      <th>% Toxic Comments</th>\n",
       "    </tr>\n",
       "    <tr>\n",
       "      <th>age_group_</th>\n",
       "      <th></th>\n",
       "      <th></th>\n",
       "    </tr>\n",
       "  </thead>\n",
       "  <tbody>\n",
       "    <tr>\n",
       "      <th>0-18</th>\n",
       "      <td>13.1</td>\n",
       "      <td>12.0</td>\n",
       "    </tr>\n",
       "    <tr>\n",
       "      <th>18-30</th>\n",
       "      <td>16.8</td>\n",
       "      <td>14.1</td>\n",
       "    </tr>\n",
       "    <tr>\n",
       "      <th>30-45</th>\n",
       "      <td>19.0</td>\n",
       "      <td>14.9</td>\n",
       "    </tr>\n",
       "    <tr>\n",
       "      <th>45-60</th>\n",
       "      <td>23.6</td>\n",
       "      <td>16.6</td>\n",
       "    </tr>\n",
       "    <tr>\n",
       "      <th>Over 60</th>\n",
       "      <td>23.7</td>\n",
       "      <td>15.7</td>\n",
       "    </tr>\n",
       "  </tbody>\n",
       "</table>\n",
       "</div>"
      ],
      "text/plain": [
       "Type        % Aggressive Comments  % Toxic Comments\n",
       "age_group_                                         \n",
       "0-18                         13.1              12.0\n",
       "18-30                        16.8              14.1\n",
       "30-45                        19.0              14.9\n",
       "45-60                        23.6              16.6\n",
       "Over 60                      23.7              15.7"
      ]
     },
     "metadata": {},
     "output_type": "display_data"
    },
    {
     "data": {
      "image/png": "[encoded data removed]",
      "text/plain": [
       "<Figure size 574.15x432 with 1 Axes>"
      ]
     },
     "metadata": {},
     "output_type": "display_data"
    }
   ],
   "source": [
    "# % Comments of flagged for aggession and toxicity by age_group\n",
    "\n",
    "agg_age_comments = agg_df.groupby('age_group', as_index=False).agg(\n",
    "    {'aggression':['sum', 'count']})\n",
    "agg_age_comments.columns = [\"_\".join(x) for x in agg_age_comments.columns.ravel()]\n",
    "agg_age_comments['Percentage'] = round(agg_age_comments['aggression_sum']/agg_age_comments['aggression_count'], 3) \n",
    "agg_age_comments['Type'] = \"Aggression\"\n",
    "#display(agg_age_comments) #QC\n",
    "\n",
    "tox_age_comments = tox_df.groupby('age_group', as_index=False).agg(\n",
    "    {'toxicity':['sum', 'count']})\n",
    "tox_age_comments.columns = [\"_\".join(x) for x in tox_age_comments.columns.ravel()]\n",
    "tox_age_comments['Percentage'] = round(tox_age_comments['toxicity_sum']/tox_age_comments['toxicity_count'], 3) \n",
    "tox_age_comments['Type'] = \"Toxicity\"\n",
    "#display(tox_age_comments) #QC\n",
    "\n",
    "# Merge the above 2 tables for plotting\n",
    "comments_flagged_age = agg_age_comments.append(tox_age_comments)\n",
    "comments_flagged_age = comments_flagged_age.replace(['Under 18'], '0-18')\n",
    "comments_flagged_age = comments_flagged_age.sort_values(['age_group_'])\n",
    "#display(comments_flagged_age) # view table\n",
    "\n",
    "# Tabular Output\n",
    "\n",
    "age_comments_table = pd.pivot_table(comments_flagged_age, values='Percentage', index=['age_group_'],\n",
    "                    columns=['Type'], aggfunc=np.sum)\n",
    "age_comments_table['Aggression'] = (100*age_comments_table['Aggression'])\n",
    "age_comments_table['Toxicity'] = 100*age_comments_table['Toxicity']\n",
    "age_comments_table = age_comments_table.rename(columns={ \"Aggression\": \"% Aggressive Comments\", \n",
    "                                                        \"Toxicity\" : \"% Toxic Comments\" })\n",
    "display(age_comments_table)\n",
    "\n",
    "# Bar Chart Output\n",
    "\n",
    "sns.set_style('ticks')\n",
    "sns.set_style(\"whitegrid\") #gridlines\n",
    "sns.set(font_scale=1.5)  \n",
    "\n",
    "g = sns.catplot(\n",
    "    data=comments_flagged_age, kind=\"bar\",\n",
    "    x=\"age_group_\", y=\"Percentage\", hue=\"Type\",\n",
    "    ci=\"sd\", palette=\"tab10\", alpha=.8, height=6\n",
    ")\n",
    "g.despine(left=True)\n",
    "g.set_axis_labels(\"Age Group\", \"% Comments Flagged\")\n",
    "\n",
    "for ax in g.axes.flat:\n",
    "    ax.yaxis.set_major_formatter(PercentFormatter(1))\n",
    "    \n",
    "# Save Output\n",
    "\n",
    "g.savefig(\"../3-Outputs/Analysis2_PercentCommentsbyAge.png\") \n"
   ]
  },
  {
   "cell_type": "markdown",
   "metadata": {},
   "source": [
    "#### Observations and Potential Implications:\n",
    "\n",
    "- The percentage of comments flagged as aggressive goes on increasing from 13% to 24% as the age of the annotators increases. This may be an indication that older age groups might be more sensitive to aggressive language compared to younger annotators which may introduce bias in the labelling process.\n",
    "\n",
    "- The percentage of comments flagged as toxic does not vary as significantly across agre groups. They range between 12% to 17%. This is a likely indication that the bias in labelling comments as toxic across age groups may is not as extreme as aggressive comments.\n",
    "\n",
    "- However, it is important to note that there is a difference in the perception of toxicity and aggression across age groups which is likely to introduce bias while training models as well."
   ]
  },
  {
   "cell_type": "markdown",
   "metadata": {},
   "source": [
    "### Step 2: Discuss further implications\n",
    "\n",
    "\n",
    "**Which, if any, of these demo applications would you expect the Perspective API—or any model trained on the Wikipedia Talk corpus—to perform well in? Why?**\n",
    "\n",
    "I feel that the 'Create tools for commenters' application shown on the [Perspective API home page](https://www.perspectiveapi.com/#/home) could perform well and be a useful tool. It givesr real time feedback to the commentor on whether the comment could be perceived as toxic or not using a % toxicity score and allows the user to self-correct.\n",
    "I think a tool like this will force users to think again before posting toxic content. Even if the score is not absolutely accurate, it will guide the commentor to be more choiceful about their language. Taking action before a comment is posted is definitely a good preventative measure than filtering it after it has been published.\n",
    "\n",
    "\n",
    "**What are some other contexts or applications where you would expect the Perspective API to perform particularly well, or particularly poorly? Why?**\n",
    "\n",
    "Comments on Wikipedia are free text and similar to posts that are posted on social media platforms like Twitter, Facebook, Instagram, etc. I believe that the models used in this API could also perform fairly well if they are used to detect toxicity, aggression and personal attacks on these platforms. I also believe that this could be extended to newspapers and journalism where we measure the articles before they get published.\n",
    "\n",
    "\n",
    "**What are some kinds of hostile speech that would be difficult to accurately detect using the approach used to train the Perspective API models?**\n",
    "\n",
    "Speeches/comments that are posted in another language but using english script (alphabet) would be hard for Perspective API to detect and get trained on. The reason is that these words are not a part of the english dictionary and would be hard to identify or classify as a part of speech. Aditionally, the spelling of such words may be very subjective to the person who is typing and could be hard to train the model on multiple variations of these sentences or words. Such comments can be negative or hateful and may go undetected.\n"
   ]
  }
 ],
 "metadata": {
  "kernelspec": {
   "display_name": "Python 3",
   "language": "python",
   "name": "python3"
  },
  "language_info": {
   "codemirror_mode": {
    "name": "ipython",
    "version": 3
   },
   "file_extension": ".py",
   "mimetype": "text/x-python",
   "name": "python",
   "nbconvert_exporter": "python",
   "pygments_lexer": "ipython3",
   "version": "3.7.6"
  }
 },
 "nbformat": 4,
 "nbformat_minor": 4
}
